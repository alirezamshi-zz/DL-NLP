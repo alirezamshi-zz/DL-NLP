{
 "cells": [
  {
   "cell_type": "markdown",
   "metadata": {},
   "source": [
    "# Answers of Exercise 1"
   ]
  },
  {
   "cell_type": "markdown",
   "metadata": {},
   "source": [
    "# Exercise 1\n",
    "\n",
    "Create a 2D tensor and then add a dimension of size 1 inserted at the 0th axis."
   ]
  },
  {
   "cell_type": "code",
   "execution_count": 2,
   "metadata": {},
   "outputs": [
    {
     "name": "stdout",
     "output_type": "stream",
     "text": [
      "tensor([[[0.1025, 0.7147, 0.0799],\n",
      "         [0.0816, 0.3718, 0.7391],\n",
      "         [0.4600, 0.8501, 0.6052]]])\n",
      "torch.Size([1, 3, 3])\n"
     ]
    }
   ],
   "source": [
    "import torch\n",
    "a = torch.rand(3,3)\n",
    "a = a.unsqueeze(0)\n",
    "print(a)\n",
    "print(a.shape)"
   ]
  },
  {
   "cell_type": "markdown",
   "metadata": {},
   "source": [
    "# Exercise 2 \n",
    "\n",
    "Remove the extra dimension you just added to the previous tensor."
   ]
  },
  {
   "cell_type": "code",
   "execution_count": 3,
   "metadata": {},
   "outputs": [
    {
     "name": "stdout",
     "output_type": "stream",
     "text": [
      "torch.Size([3, 3])\n"
     ]
    }
   ],
   "source": [
    "a = a.squeeze(0)\n",
    "print(a.shape)"
   ]
  },
  {
   "cell_type": "markdown",
   "metadata": {},
   "source": [
    "# Exercise 3\n",
    "\n",
    "Create a random tensor of shape 5x3 in the interval [3, 7)"
   ]
  },
  {
   "cell_type": "code",
   "execution_count": 4,
   "metadata": {},
   "outputs": [
    {
     "data": {
      "text/plain": [
       "tensor([[3.4159, 5.6724, 3.8796],\n",
       "        [3.9895, 5.6875, 6.7015],\n",
       "        [6.1025, 6.2243, 3.1327],\n",
       "        [3.8927, 3.7360, 3.7333],\n",
       "        [5.5081, 6.9481, 6.1389]])"
      ]
     },
     "execution_count": 4,
     "metadata": {},
     "output_type": "execute_result"
    }
   ],
   "source": [
    "3 + torch.rand(5, 3) * 4"
   ]
  },
  {
   "cell_type": "markdown",
   "metadata": {},
   "source": [
    "# Exercise 4\n",
    "\n",
    "Create a tensor with values from a normal distribution (mean=0, std=1)."
   ]
  },
  {
   "cell_type": "code",
   "execution_count": 5,
   "metadata": {},
   "outputs": [
    {
     "data": {
      "text/plain": [
       "tensor([[-3.2413, -1.0959,  0.0255],\n",
       "        [-0.7650, -0.7929, -0.8407],\n",
       "        [ 0.0735,  1.2410,  1.8930]])"
      ]
     },
     "execution_count": 5,
     "metadata": {},
     "output_type": "execute_result"
    }
   ],
   "source": [
    "a = torch.rand(3,3)\n",
    "a.normal_(mean=0, std=1)"
   ]
  },
  {
   "cell_type": "markdown",
   "metadata": {},
   "source": [
    "# Exercise 5\n",
    "\n",
    "Retrieve the indexes of all the non zero elements in the tensor torch.Tensor([1, 1, 1, 0, 1])."
   ]
  },
  {
   "cell_type": "code",
   "execution_count": 6,
   "metadata": {},
   "outputs": [
    {
     "data": {
      "text/plain": [
       "tensor([[0],\n",
       "        [1],\n",
       "        [2],\n",
       "        [4]])"
      ]
     },
     "execution_count": 6,
     "metadata": {},
     "output_type": "execute_result"
    }
   ],
   "source": [
    "a = torch.Tensor([1, 1, 1, 0, 1])\n",
    "torch.nonzero(a)"
   ]
  },
  {
   "cell_type": "markdown",
   "metadata": {},
   "source": [
    "# Exercise 6\n",
    "\n",
    "Create a random tensor of size (3,1) and then horizonally stack 4 copies together."
   ]
  },
  {
   "cell_type": "code",
   "execution_count": 7,
   "metadata": {},
   "outputs": [
    {
     "data": {
      "text/plain": [
       "tensor([[0.1384, 0.1384, 0.1384, 0.1384],\n",
       "        [0.4065, 0.4065, 0.4065, 0.4065],\n",
       "        [0.4903, 0.4903, 0.4903, 0.4903]])"
      ]
     },
     "execution_count": 7,
     "metadata": {},
     "output_type": "execute_result"
    }
   ],
   "source": [
    "a = torch.rand(3,1)\n",
    "a.expand(3,4)"
   ]
  },
  {
   "cell_type": "markdown",
   "metadata": {},
   "source": [
    "# Exercise 7\n",
    "\n",
    "Return the batch matrix-matrix product of two 3 dimensional matrices (a=torch.rand(3,4,5), b=torch.rand(3,5,4))."
   ]
  },
  {
   "cell_type": "code",
   "execution_count": 8,
   "metadata": {},
   "outputs": [
    {
     "data": {
      "text/plain": [
       "tensor([[[2.0554, 1.7474, 3.1289, 1.7918],\n",
       "         [1.3558, 0.7265, 1.8754, 0.6584],\n",
       "         [2.0602, 0.9311, 2.1633, 0.8085],\n",
       "         [1.8815, 1.4596, 2.9856, 1.4597]],\n",
       "\n",
       "        [[1.7473, 2.9274, 1.0696, 2.0732],\n",
       "         [1.3459, 1.8406, 0.4827, 1.3264],\n",
       "         [1.0649, 1.9077, 0.7305, 1.1068],\n",
       "         [1.2528, 2.2711, 0.6393, 1.5071]],\n",
       "\n",
       "        [[1.0615, 0.9192, 2.1972, 1.7012],\n",
       "         [0.7621, 0.4631, 1.1517, 0.9299],\n",
       "         [0.7012, 0.5184, 1.1954, 0.8318],\n",
       "         [0.8308, 0.6948, 1.6619, 1.3858]]])"
      ]
     },
     "execution_count": 8,
     "metadata": {},
     "output_type": "execute_result"
    }
   ],
   "source": [
    "a = torch.rand(3,4,5)\n",
    "b = torch.rand(3,5,4)\n",
    "torch.bmm(a, b)"
   ]
  },
  {
   "cell_type": "markdown",
   "metadata": {},
   "source": [
    "# Exercise 8\n",
    "\n",
    "Return the batch matrix-matrix product of a 3D matrix and a 2D matrix (a=torch.rand(3,4,5), b=torch.rand(5,4))."
   ]
  },
  {
   "cell_type": "code",
   "execution_count": 9,
   "metadata": {},
   "outputs": [
    {
     "data": {
      "text/plain": [
       "tensor([[[1.6463, 0.6520, 1.1887, 1.3435],\n",
       "         [0.8871, 0.4103, 0.8821, 1.0778],\n",
       "         [0.5989, 0.2574, 0.5931, 0.6403],\n",
       "         [1.2315, 0.7622, 0.9642, 0.6910]],\n",
       "\n",
       "        [[1.3239, 0.5323, 1.0606, 1.1069],\n",
       "         [0.7052, 0.5214, 0.8463, 0.4247],\n",
       "         [1.1626, 0.5888, 0.8522, 1.0317],\n",
       "         [1.2240, 0.7754, 1.0326, 1.1752]],\n",
       "\n",
       "        [[0.6535, 0.3073, 0.4279, 0.5316],\n",
       "         [1.5770, 0.7350, 1.3032, 1.3383],\n",
       "         [0.8394, 0.3055, 0.7137, 0.5578],\n",
       "         [1.2110, 0.6920, 1.0417, 1.1084]]])"
      ]
     },
     "execution_count": 9,
     "metadata": {},
     "output_type": "execute_result"
    }
   ],
   "source": [
    "a = torch.rand(3,4,5)\n",
    "b = torch.rand(5,4)\n",
    "torch.bmm(a, b.unsqueeze(0).expand(a.size(0), *b.size()))"
   ]
  }
 ],
 "metadata": {
  "kernelspec": {
   "display_name": "Python 3",
   "language": "python",
   "name": "python3"
  },
  "language_info": {
   "codemirror_mode": {
    "name": "ipython",
    "version": 3
   },
   "file_extension": ".py",
   "mimetype": "text/x-python",
   "name": "python",
   "nbconvert_exporter": "python",
   "pygments_lexer": "ipython3",
   "version": "3.7.1"
  }
 },
 "nbformat": 4,
 "nbformat_minor": 2
}
